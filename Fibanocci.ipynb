{
  "nbformat": 4,
  "nbformat_minor": 0,
  "metadata": {
    "colab": {
      "provenance": []
    },
    "kernelspec": {
      "name": "python3",
      "display_name": "Python 3"
    },
    "language_info": {
      "name": "python"
    }
  },
  "cells": [
    {
      "cell_type": "code",
      "execution_count": 1,
      "metadata": {
        "colab": {
          "base_uri": "https://localhost:8080/"
        },
        "id": "bjMv5B9IkY8c",
        "outputId": "56e23be6-ab96-4503-cadd-353039002ead"
      },
      "outputs": [
        {
          "output_type": "stream",
          "name": "stdout",
          "text": [
            "Enter the number of terms in the Fibonacci series: 10\n",
            "Fibonacci series up to 10 terms: [0, 1, 1, 2, 3, 5, 8, 13, 21, 34]\n"
          ]
        }
      ],
      "source": [
        "def fibonacci(n):\n",
        "    # Initialize the base cases for Fibonacci sequence\n",
        "    fib_series = [0, 1]\n",
        "\n",
        "    # Compute Fibonacci values and store in list\n",
        "    for i in range(2, n):\n",
        "        fib_series.append(fib_series[i - 1] + fib_series[i - 2])\n",
        "\n",
        "    # Print the Fibonacci series up to the n-th element\n",
        "    return fib_series[:n]\n",
        "\n",
        "# Set the number of elements you want to generate in the Fibonacci sequence\n",
        "n = int(input(\"Enter the number of terms in the Fibonacci series: \"))\n",
        "print(f\"Fibonacci series up to {n} terms: {fibonacci(n)}\")\n"
      ]
    }
  ]
}